{
 "cells": [
  {
   "cell_type": "code",
   "execution_count": 9,
   "metadata": {},
   "outputs": [],
   "source": [
    "import tensorflow as tf\n",
    "import numpy as np"
   ]
  },
  {
   "cell_type": "code",
   "execution_count": 18,
   "metadata": {},
   "outputs": [],
   "source": [
    "class Perceptron :\n",
    "    def __init__(self, w,b): ## weight, bias\n",
    "        self.w = tf.Variable(w, dtype = tf.float32) ## weight\n",
    "        self.b = tf.Variable(b, dtype = tf.float32) ## bias\n",
    "    \n",
    "    def __call__ (self, x): ##Perceptron을 call했을때 어떠한 출력이 나오는지 정의\n",
    "        return tf.sign(tf.reduce_sum(self.w * x) + self.b) ## weight와 x를 inner product\n",
    "        ## inner product를 한 후 모든 값을 더해서 하나의 스칼라 값으로 만듦\n",
    "        ## bias 더하고 sign function을 이용하여 -1 또는 1로 바꾸어 준다"
   ]
  },
  {
   "cell_type": "code",
   "execution_count": 19,
   "metadata": {},
   "outputs": [],
   "source": [
    "def v(*args) : ## 코드를 짧게 만들 수 있는 방법 \n",
    "               ## *args로 입력하면 여러개 값을 받을 수 있다(알아서 튜플 형태로 묶여 들어온다)\n",
    "    return np.array(args) ## 벡터 표현"
   ]
  },
  {
   "cell_type": "code",
   "execution_count": 20,
   "metadata": {},
   "outputs": [],
   "source": [
    "## Perceptron 정의\n",
    "w = v(1,1) ## weight가 (1,1)인 벡터\n",
    "b = 0.5\n",
    "\n",
    "perceptron = Perceptron(w, b)"
   ]
  },
  {
   "cell_type": "code",
   "execution_count": 21,
   "metadata": {},
   "outputs": [
    {
     "name": "stdout",
     "output_type": "stream",
     "text": [
      "1.0 1.0\n",
      "-1.0 1.0\n"
     ]
    }
   ],
   "source": [
    "## Perceptron 동작 확인 ## 사사분면\n",
    "p1 = perceptron(v(1,1)) ## T,T\n",
    "p2 = perceptron(v(-1,1)) ## F,T\n",
    "p3 = perceptron(v(-1,-1)) ## F,F\n",
    "p4 = perceptron(v(1,-1)) ## T,F\n",
    "\n",
    "print(p2.numpy(), p1.numpy())\n",
    "print(p3.numpy(), p4.numpy()) ## 1이면 True 0이면 False\n",
    "## 3사분면만 False\n",
    "## OR 함수 잘 구현됨"
   ]
  }
 ],
 "metadata": {
  "kernelspec": {
   "display_name": "Python 3",
   "language": "python",
   "name": "python3"
  },
  "language_info": {
   "codemirror_mode": {
    "name": "ipython",
    "version": 3
   },
   "file_extension": ".py",
   "mimetype": "text/x-python",
   "name": "python",
   "nbconvert_exporter": "python",
   "pygments_lexer": "ipython3",
   "version": "3.7.6"
  }
 },
 "nbformat": 4,
 "nbformat_minor": 4
}
