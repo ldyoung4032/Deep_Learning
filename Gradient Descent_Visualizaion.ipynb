{
 "cells": [
  {
   "cell_type": "code",
   "execution_count": 1,
   "metadata": {},
   "outputs": [],
   "source": [
    "import numpy as np\n",
    "import matplotlib.pyplot as plt"
   ]
  },
  {
   "cell_type": "code",
   "execution_count": 2,
   "metadata": {},
   "outputs": [],
   "source": [
    "## 손실 함수를 알고 있는 상황\n",
    "## 손실 함수 정의\n",
    "def f(x) :\n",
    "    return 0.1*x**4 -1.5*x**3 + 0.6 *x**2 + 0.1*x + 20.0"
   ]
  },
  {
   "cell_type": "code",
   "execution_count": 3,
   "metadata": {},
   "outputs": [],
   "source": [
    "## 손실 함수의 미분 정의\n",
    "def df_dx(x) :\n",
    "    return 0.4*x**3 - 4.5*x**2 + 1.2*x + 1.0"
   ]
  },
  {
   "cell_type": "code",
   "execution_count": 4,
   "metadata": {},
   "outputs": [],
   "source": [
    "def gradient_descent(initial_x, max_epoch=1000, learning_rate=0.01, eps = 1e-5) :\n",
    "    x = initial_x\n",
    "    \n",
    "    x_log = [x] ## x가 변화해 온 발자취\n",
    "    \n",
    "    min_x = x ## 손실 함수를 작게하는 것이 목표\n",
    "    min_y = f(min_x)\n",
    "    for _ in range(max_epoch) :\n",
    "        grad = df_dx(x) ## 미분값\n",
    "        new_x = x - learning_rate * grad\n",
    "        y = f(new_x)\n",
    "        \n",
    "        x_log.append(new_x)\n",
    "\n",
    "        ## 현재까지 얻은 값(min_y)보다 더 작은 값(y)인가 아닌가를 판단\n",
    "        if min_y > y :\n",
    "            min_x = new_x\n",
    "            min_y = y\n",
    "\n",
    "        if np.abs(x - new_x) < eps :\n",
    "            break\n",
    "\n",
    "        x = new_x\n",
    "        \n",
    "    return min_x, min_y, x_log"
   ]
  },
  {
   "cell_type": "code",
   "execution_count": 17,
   "metadata": {},
   "outputs": [
    {
     "data": {
      "image/png": "[encoded data removed]",
      "text/plain": [
       "<Figure size 432x288 with 1 Axes>"
      ]
     },
     "metadata": {
      "needs_background": "light"
     },
     "output_type": "display_data"
    }
   ],
   "source": [
    "min_x1, min_y1, x_log1 = gradient_descent(initial_x=5)\n",
    "min_x2, min_y2, x_log2 = gradient_descent(initial_x=-5)  \n",
    "min_x3, min_y3, x_log3 = gradient_descent(initial_x=0)\n",
    "min_x4, min_y4, x_log4 = gradient_descent(initial_x=15, learning_rate = 0.001) ## 0.01과 비교해보기\n",
    "                                                                              ## 너무 크면 오버플로우\n",
    "\n",
    "y_log1 = f(np.array(x_log1))\n",
    "y_log2 = f(np.array(x_log2))\n",
    "y_log3 = f(np.array(x_log3))\n",
    "y_log4 = f(np.array(x_log4))\n",
    "\n",
    "plt.plot(x_log1, y_log1, '.-') ## 각각의 위치는 점으로 표현하고 그 사이는 선으로 연결\n",
    "plt.plot(x_log2, y_log2, '.-')\n",
    "plt.plot(x_log3, y_log3, '.-')\n",
    "plt.plot(x_log4, y_log4, '.-')\n",
    "plt.show() ## 4차원 곡선이기 때문에 두개의 볼록 생성"
   ]
  }
 ],
 "metadata": {
  "kernelspec": {
   "display_name": "Python 3",
   "language": "python",
   "name": "python3"
  },
  "language_info": {
   "codemirror_mode": {
    "name": "ipython",
    "version": 3
   },
   "file_extension": ".py",
   "mimetype": "text/x-python",
   "name": "python",
   "nbconvert_exporter": "python",
   "pygments_lexer": "ipython3",
   "version": "3.7.6"
  }
 },
 "nbformat": 4,
 "nbformat_minor": 4
}
