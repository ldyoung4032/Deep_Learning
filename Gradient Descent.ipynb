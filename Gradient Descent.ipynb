{
 "cells": [
  {
   "cell_type": "code",
   "execution_count": 1,
   "metadata": {},
   "outputs": [],
   "source": [
    "import numpy as np"
   ]
  },
  {
   "cell_type": "code",
   "execution_count": 2,
   "metadata": {},
   "outputs": [],
   "source": [
    "## 손실 함수를 알고 있는 상황\n",
    "## 손실 함수 정의\n",
    "def f(x) :\n",
    "    return 0.1*x**4 -1.5*x**3 + 0.6 *x**2 + 0.1*x + 20.0"
   ]
  },
  {
   "cell_type": "code",
   "execution_count": 3,
   "metadata": {},
   "outputs": [],
   "source": [
    "## 손실 함수의 미분 정의\n",
    "def df_dx(x) :\n",
    "    return 0.4*x**3 - 4.5*x**2 + 1.2*x + 1.0"
   ]
  },
  {
   "cell_type": "code",
   "execution_count": 4,
   "metadata": {},
   "outputs": [],
   "source": [
    "## 하이퍼파라미터 정의\n",
    "x = 5 ## 초기값\n",
    "eps = 1e-5 ## Gradient Descent의 종료 조건, 십의 마이너스 오승\n",
    "lr = 0.01 ## 학습률\n",
    "max_epoch = 1000"
   ]
  },
  {
   "cell_type": "code",
   "execution_count": 5,
   "metadata": {},
   "outputs": [],
   "source": [
    "min_x = x ## 손실 함수를 작게하는 것이 목표\n",
    "min_y = f(min_x)\n",
    "for _ in range(max_epoch) :\n",
    "    grad = df_dx(x) ## 미분값\n",
    "    new_x = x - lr * grad\n",
    "    y = f(new_x)\n",
    "    \n",
    "    ## 현재까지 얻은 값(min_y)보다 더 작은 값(y)인가 아닌가를 판단\n",
    "    if min_y > y :\n",
    "        min_x = new_x\n",
    "        min_y = y\n",
    "    \n",
    "    if np.abs(x - new_x) < eps :\n",
    "        break\n",
    "        \n",
    "    x = new_x"
   ]
  },
  {
   "cell_type": "code",
   "execution_count": 6,
   "metadata": {},
   "outputs": [
    {
     "name": "stdout",
     "output_type": "stream",
     "text": [
      "10.955323272631201 -438.7065648462464\n"
     ]
    }
   ],
   "source": [
    "print(min_x, min_y)"
   ]
  }
 ],
 "metadata": {
  "kernelspec": {
   "display_name": "Python 3",
   "language": "python",
   "name": "python3"
  },
  "language_info": {
   "codemirror_mode": {
    "name": "ipython",
    "version": 3
   },
   "file_extension": ".py",
   "mimetype": "text/x-python",
   "name": "python",
   "nbconvert_exporter": "python",
   "pygments_lexer": "ipython3",
   "version": "3.7.6"
  }
 },
 "nbformat": 4,
 "nbformat_minor": 4
}
